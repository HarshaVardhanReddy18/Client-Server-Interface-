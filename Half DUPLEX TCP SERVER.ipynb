{
 "cells": [
  {
   "cell_type": "code",
   "execution_count": null,
   "metadata": {},
   "outputs": [
    {
     "name": "stdout",
     "output_type": "stream",
     "text": [
      "Welcome: The server is now ready to receive\n",
      ">>  RA1811027010071\n",
      ">> Charu Sharma\n"
     ]
    }
   ],
   "source": [
    "#Server\n",
    "from socket import *\n",
    "server_port = 5000\n",
    "server_socket = socket(AF_INET,SOCK_STREAM)\n",
    "server_socket.bind(('',server_port))\n",
    "server_socket.listen(1)\n",
    "print (\"Welcome: The server is now ready to receive\")\n",
    "connection_socket, address = server_socket.accept()\n",
    "while True:\n",
    "    sentence = connection_socket.recv(2048).decode()\n",
    "    print('>> ',sentence)\n",
    "    message = input(\">> \")\n",
    "    connection_socket.send(message.encode())\n",
    "    if(message == 'q'):\n",
    "        connectionSocket.close()"
   ]
  },
  {
   "cell_type": "code",
   "execution_count": null,
   "metadata": {},
   "outputs": [],
   "source": []
  }
 ],
 "metadata": {
  "kernelspec": {
   "display_name": "Python 3",
   "language": "python",
   "name": "python3"
  },
  "language_info": {
   "codemirror_mode": {
    "name": "ipython",
    "version": 3
   },
   "file_extension": ".py",
   "mimetype": "text/x-python",
   "name": "python",
   "nbconvert_exporter": "python",
   "pygments_lexer": "ipython3",
   "version": "3.7.6"
  }
 },
 "nbformat": 4,
 "nbformat_minor": 4
}
