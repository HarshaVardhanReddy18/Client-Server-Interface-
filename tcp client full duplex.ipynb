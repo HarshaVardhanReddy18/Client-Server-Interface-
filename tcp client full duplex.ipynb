{
 "cells": [
  {
   "cell_type": "code",
   "execution_count": 1,
   "metadata": {},
   "outputs": [
    {
     "name": "stdout",
     "output_type": "stream",
     "text": [
      "Server: RA1811027010071\n",
      "Enter Client Message:Charu Sharma\n",
      "Server: exit\n",
      "Client is exiting\n"
     ]
    }
   ],
   "source": [
    "from socket import *\n",
    "\n",
    "sock = socket(AF_INET,SOCK_STREAM)\n",
    "sock.connect(('localhost',5000))\n",
    "sock.send(\"ping\".encode())\n",
    "while True:\n",
    "    data=sock.recv(1024).decode()\n",
    "    print(\"Server:\",data)\n",
    "    if data==\"exit\" or not data:\n",
    "        print(\"Client is exiting\")\n",
    "        break\n",
    "    msg=input(\"Enter Client Message:\")\n",
    "    sock.send(msg.encode())\n",
    "sock.close()"
   ]
  },
  {
   "cell_type": "code",
   "execution_count": null,
   "metadata": {},
   "outputs": [],
   "source": []
  }
 ],
 "metadata": {
  "kernelspec": {
   "display_name": "Python 3",
   "language": "python",
   "name": "python3"
  },
  "language_info": {
   "codemirror_mode": {
    "name": "ipython",
    "version": 3
   },
   "file_extension": ".py",
   "mimetype": "text/x-python",
   "name": "python",
   "nbconvert_exporter": "python",
   "pygments_lexer": "ipython3",
   "version": "3.7.6"
  }
 },
 "nbformat": 4,
 "nbformat_minor": 4
}
