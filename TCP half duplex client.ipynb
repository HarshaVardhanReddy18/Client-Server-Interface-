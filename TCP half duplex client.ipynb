{
 "cells": [
  {
   "cell_type": "code",
   "execution_count": null,
   "metadata": {},
   "outputs": [
    {
     "name": "stdout",
     "output_type": "stream",
     "text": [
      ">> RA1811027010071\n",
      ">>  Charu Sharma\n"
     ]
    }
   ],
   "source": [
    "#client\n",
    "from socket import *\n",
    "server_name = 'localhost'\n",
    "server_port = 5000\n",
    "client_socket = socket(AF_INET, SOCK_STREAM)\n",
    "client_socket.connect((server_name,server_port))\n",
    "\n",
    "while True:\n",
    "    sentence = input(\">> \")\n",
    "    client_socket.send(sentence.encode())\n",
    "    message = client_socket.recv(2048)\n",
    "    print (\">> \", message.decode())\n",
    "    if(sentence == 'q'):\n",
    "        client_socket.close()"
   ]
  },
  {
   "cell_type": "code",
   "execution_count": null,
   "metadata": {},
   "outputs": [],
   "source": []
  }
 ],
 "metadata": {
  "kernelspec": {
   "display_name": "Python 3",
   "language": "python",
   "name": "python3"
  },
  "language_info": {
   "codemirror_mode": {
    "name": "ipython",
    "version": 3
   },
   "file_extension": ".py",
   "mimetype": "text/x-python",
   "name": "python",
   "nbconvert_exporter": "python",
   "pygments_lexer": "ipython3",
   "version": "3.7.6"
  }
 },
 "nbformat": 4,
 "nbformat_minor": 4
}
