{
 "cells": [
  {
   "cell_type": "code",
   "execution_count": 1,
   "metadata": {},
   "outputs": [
    {
     "name": "stdout",
     "output_type": "stream",
     "text": [
      "Welcome: The server is now ready to receive\n",
      "Connected to ('127.0.0.1', 55461)\n",
      "Client: ping\n",
      "Enter Server Message:RA1811027010071\n",
      "Client: Charu Sharma\n",
      "Enter Server Message:exit\n",
      "Client: \n",
      "Server Exiting\n"
     ]
    }
   ],
   "source": [
    "from socket import *\n",
    "\n",
    "sock = socket(AF_INET,SOCK_STREAM)\n",
    "sock.bind(('localhost',5000))\n",
    "sock.listen(1)\n",
    "print (\"Welcome: The server is now ready to receive\")\n",
    "conn, addr = sock.accept()\n",
    "print(\"Connected to\",addr)\n",
    "while True:\n",
    "    data=conn.recv(1024).decode()\n",
    "    print(\"Client:\",data)\n",
    "    if data=='exit'or not data:\n",
    "        print('Server Exiting')\n",
    "        break\n",
    "    msg=input(\"Enter Server Message:\")\n",
    "    conn.sendall(msg.encode())\n",
    "sock.close()"
   ]
  },
  {
   "cell_type": "code",
   "execution_count": null,
   "metadata": {},
   "outputs": [],
   "source": []
  }
 ],
 "metadata": {
  "kernelspec": {
   "display_name": "Python 3",
   "language": "python",
   "name": "python3"
  },
  "language_info": {
   "codemirror_mode": {
    "name": "ipython",
    "version": 3
   },
   "file_extension": ".py",
   "mimetype": "text/x-python",
   "name": "python",
   "nbconvert_exporter": "python",
   "pygments_lexer": "ipython3",
   "version": "3.7.6"
  }
 },
 "nbformat": 4,
 "nbformat_minor": 4
}
